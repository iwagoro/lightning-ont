{
 "cells": [
  {
   "cell_type": "code",
   "execution_count": 3,
   "metadata": {},
   "outputs": [
    {
     "data": {
      "text/plain": [
       "==========================================================================================\n",
       "Layer (type:depth-idx)                   Output Shape              Param #\n",
       "==========================================================================================\n",
       "Encoder                                  [32, 45, 767, 52, 2]      --\n",
       "├─CConv2d: 1-1                           [32, 45, 767, 52, 2]      --\n",
       "│    └─Conv2d: 2-1                       [32, 45, 767, 52]         1,620\n",
       "│    └─Conv2d: 2-2                       [32, 45, 767, 52]         1,620\n",
       "│    └─Conv2d: 2-3                       [32, 45, 767, 52]         (recursive)\n",
       "│    └─Conv2d: 2-4                       [32, 45, 767, 52]         (recursive)\n",
       "├─CBatchNorm2d: 1-2                      [32, 45, 767, 52, 2]      --\n",
       "│    └─BatchNorm2d: 2-5                  [32, 45, 767, 52]         90\n",
       "│    └─BatchNorm2d: 2-6                  [32, 45, 767, 52]         90\n",
       "├─LeakyReLU: 1-3                         [32, 45, 767, 52, 2]      --\n",
       "==========================================================================================\n",
       "Total params: 3,420\n",
       "Trainable params: 3,420\n",
       "Non-trainable params: 0\n",
       "Total mult-adds (G): 8.27\n",
       "==========================================================================================\n",
       "Input size (MB): 42.16\n",
       "Forward/backward pass size (MB): 2756.78\n",
       "Params size (MB): 0.01\n",
       "Estimated Total Size (MB): 2798.95\n",
       "=========================================================================================="
      ]
     },
     "execution_count": 3,
     "metadata": {},
     "output_type": "execute_result"
    }
   ],
   "source": [
    "from torchinfo import summary\n",
    "from DCUNet import DCUnet10\n",
    "summary(DCUnet10(),input_size=(32,1,1539,107,2))"
   ]
  }
 ],
 "metadata": {
  "kernelspec": {
   "display_name": "base",
   "language": "python",
   "name": "python3"
  },
  "language_info": {
   "codemirror_mode": {
    "name": "ipython",
    "version": 3
   },
   "file_extension": ".py",
   "mimetype": "text/x-python",
   "name": "python",
   "nbconvert_exporter": "python",
   "pygments_lexer": "ipython3",
   "version": "3.10.13"
  },
  "orig_nbformat": 4
 },
 "nbformat": 4,
 "nbformat_minor": 2
}
